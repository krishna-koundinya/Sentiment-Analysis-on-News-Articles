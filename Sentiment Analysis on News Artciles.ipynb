{
 "cells": [
  {
   "cell_type": "code",
   "execution_count": 58,
   "metadata": {},
   "outputs": [],
   "source": [
    "# Import statements.\n",
    "# You will need the following packages installed to run this notebook.\n",
    "import difflib\n",
    "import random\n",
    "import requests\n",
    "import json\n",
    "import datetime \n",
    "import dateutil.relativedelta\n",
    "from ipywidgets import interact, widgets\n",
    "from IPython.display import display\n",
    "import pandas as pd\n",
    "from unidecode import unidecode\n",
    "import operator\n",
    "\n",
    "\n",
    "from ibm_watson import NaturalLanguageUnderstandingV1\n",
    "from ibm_cloud_sdk_core.authenticators import IAMAuthenticator\n",
    "from ibm_watson.natural_language_understanding_v1 import Features, EmotionOptions, SentimentOptions\n",
    "\n"
   ]
  },
  {
   "cell_type": "code",
   "execution_count": 40,
   "metadata": {},
   "outputs": [
    {
     "data": {
      "application/vnd.jupyter.widget-view+json": {
       "model_id": "66d6a29f89a84f07b985df0298be8e91",
       "version_major": 2,
       "version_minor": 0
      },
      "text/plain": [
       "VBox(children=(VBox(children=(Checkbox(value=False, description='ABC News'), Checkbox(value=False, description…"
      ]
     },
     "metadata": {},
     "output_type": "display_data"
    }
   ],
   "source": [
    "# Using the IBM Watson Natural Language Understanding API.\n",
    "\n",
    "# Please visit https://www.ibm.com/cloud/watson-natural-language-understanding to register and obtain your API Key\n",
    "# and follow instructions.\n",
    "# Please visit https://anaconda.org/conda-forge/ibm-watson for conda installation.\n",
    "\n",
    "authenticator = IAMAuthenticator('paste-your-ibm-watson-api-key') #single quotes needed.\n",
    "natural_language_understanding = NaturalLanguageUnderstandingV1(\n",
    "    version='2019-07-12',\n",
    "    authenticator=authenticator\n",
    ")\n",
    "natural_language_understanding.set_service_url('paste_your_service_url_here') #single quotes needed.\n",
    "\n",
    "# Request to obtain all english newspaper sources.\n",
    "# Please visit https://newsapi.org/register to register and obtain your API Key.\n",
    "\n",
    "source_url = ('http://newsapi.org/v2/sources?'\n",
    "       'language=en&'\n",
    "       'apiKey=paste-your-news-api-key-here') #single quotes needed.\n",
    "source_response = requests.get(source_url)\n",
    "if source_response.json()['status'] == 'ok':\n",
    "    sources = {source['name']: source['id'] for source in source_response.json()['sources']}\n",
    "else:\n",
    "    print(\"Bad request\")\n",
    "    \n",
    "# The 'sources' variable holds the dictionary where the keys are names of the news sources and values are the ids\n",
    "# of the news sources.\n",
    "# We need the source ids to make a request for articles.\n",
    "\n",
    "# Code referenced and used from 'https://gist.github.com/pbugnion/5bb7878ff212a0116f0f1fbc9f431a5c'\n",
    "\n",
    "def multi_checkbox_widget(descriptions):\n",
    "    \"\"\" Widget with a search field and lots of checkboxes \"\"\"\n",
    "    options_dict = {description: widgets.Checkbox(description=description, value=False) for description in descriptions}\n",
    "    options = [options_dict[description] for description in descriptions]\n",
    "    options_widget = widgets.VBox(options, layout={'overflow': 'scroll'})\n",
    "    multi_select = widgets.VBox([options_widget])\n",
    "\n",
    "    return multi_select\n",
    "\n",
    "# Creating a list of keys to create a checkbox list to select from\n",
    "descriptions = list(sources.keys())\n",
    "\n",
    "widget = multi_checkbox_widget(descriptions)\n",
    "widget"
   ]
  },
  {
   "cell_type": "code",
   "execution_count": 41,
   "metadata": {},
   "outputs": [
    {
     "data": {
      "text/plain": [
       "'the-times-of-india,the-verge,the-wall-street-journal,the-washington-post,the-washington-times,time,usa-today,vice-news,wired'"
      ]
     },
     "execution_count": 41,
     "metadata": {},
     "output_type": "execute_result"
    }
   ],
   "source": [
    "# Selected options are recorded here in selected_options variable\n",
    "# We use this list to map to the source ids using the sources dictionary/ hash map\n",
    "# Creating a list of ids (variable name: 'ids')\n",
    "\n",
    "selected_options = [w.description for w in widget.children[0].children if w.value]\n",
    "ids = []\n",
    "for name in selected_options:\n",
    "    ids.append(sources[name])\n",
    "    \n",
    "# The developer version (community or free edition) in newsapi.org website prevents us from using more than 20 sources.\n",
    "# So we truncate the list the user creates by using only the first 20 sources selected by the user.\n",
    "\n",
    "if len(ids) > 20:\n",
    "    ids = ids[:20]\n",
    "\n",
    "# Creating a string 'source_string' from the 'ids' which will be used to make the api call.\n",
    "source_string = ''\n",
    "for s in ids:\n",
    "    source_string += s+',' \n",
    "source_string = source_string[:-1]\n",
    "source_string"
   ]
  },
  {
   "cell_type": "code",
   "execution_count": 42,
   "metadata": {},
   "outputs": [
    {
     "data": {
      "text/plain": [
       "'2020-07-18'"
      ]
     },
     "execution_count": 42,
     "metadata": {},
     "output_type": "execute_result"
    }
   ],
   "source": [
    "# The developer version only gives us the results which are no more than a month old.\n",
    "# To prevent the user from making a bad request we only use the previous month's date \n",
    "# to get the results from that date to present date.\n",
    "# The string in previous_month is used to make the api call.\n",
    "\n",
    "now = datetime.datetime.now()\n",
    "previous_month = now + dateutil.relativedelta.relativedelta(months=-1)\n",
    "previous_month = previous_month.strftime('%Y-%m-%d')\n",
    "previous_month"
   ]
  },
  {
   "cell_type": "code",
   "execution_count": 43,
   "metadata": {},
   "outputs": [
    {
     "name": "stdout",
     "output_type": "stream",
     "text": [
      "Type keywords that must appear in article\n"
     ]
    },
    {
     "data": {
      "application/vnd.jupyter.widget-view+json": {
       "model_id": "08cbf6b0b50f44bb9da45bb6a9eaa11b",
       "version_major": 2,
       "version_minor": 0
      },
      "text/plain": [
       "Text(value='', description='String:', layout=Layout(height='40px', width='auto'), placeholder='Type one keywor…"
      ]
     },
     "metadata": {},
     "output_type": "display_data"
    }
   ],
   "source": [
    "# Creating a widget for the user to enter the keywords which the article must contain.\n",
    "\n",
    "print(\"Type keywords that must appear in article\")\n",
    "layout = widgets.Layout(width='auto', height='40px')\n",
    "must_have_text = widgets.Text( layout=layout,\n",
    "    placeholder='Type one keyword and Press Enter, then type another',\n",
    "    description='String:',\n",
    ")\n",
    "display(must_have_text)\n",
    "\n",
    "must_have_keywords_list = []\n",
    "def callback(wdgt, ):\n",
    "    # replace by something useful\n",
    "    display(wdgt.value)\n",
    "    must_have_keywords_list.append('+'+wdgt.value)\n",
    "    \n",
    "\n",
    "must_have_text.on_submit(callback)"
   ]
  },
  {
   "cell_type": "code",
   "execution_count": 44,
   "metadata": {},
   "outputs": [
    {
     "data": {
      "text/plain": [
       "''"
      ]
     },
     "execution_count": 44,
     "metadata": {},
     "output_type": "execute_result"
    }
   ],
   "source": [
    "must_have_keywords = ''.join(must_have_keywords_list)\n",
    "must_have_keywords"
   ]
  },
  {
   "cell_type": "code",
   "execution_count": 45,
   "metadata": {},
   "outputs": [
    {
     "name": "stdout",
     "output_type": "stream",
     "text": [
      "Type keywords that must not appear in article\n"
     ]
    },
    {
     "data": {
      "application/vnd.jupyter.widget-view+json": {
       "model_id": "822ffece82e3473898b9f2ba776c42b2",
       "version_major": 2,
       "version_minor": 0
      },
      "text/plain": [
       "Text(value='', description='String:', layout=Layout(height='40px', width='auto'), placeholder='Type one keywor…"
      ]
     },
     "metadata": {},
     "output_type": "display_data"
    }
   ],
   "source": [
    "# Creating a widget for the user to enter the keywords which the article must not contain.\n",
    "\n",
    "print(\"Type keywords that must not appear in article\")\n",
    "must_not_have_text = widgets.Text(layout=layout,\n",
    "    placeholder='Type one keyword and Press Enter, then type another',\n",
    "    description='String:',\n",
    ")\n",
    "display(must_not_have_text)\n",
    "\n",
    "must_not_have_keywords_list = []\n",
    "def callback(wdgt):\n",
    "    # replace by something useful\n",
    "    display(wdgt.value)\n",
    "    must_not_have_keywords_list.append('-'+wdgt.value)\n",
    "\n",
    "must_not_have_text.on_submit(callback)"
   ]
  },
  {
   "cell_type": "code",
   "execution_count": 46,
   "metadata": {},
   "outputs": [
    {
     "data": {
      "text/plain": [
       "''"
      ]
     },
     "execution_count": 46,
     "metadata": {},
     "output_type": "execute_result"
    }
   ],
   "source": [
    "must_not_have_keywords = ''.join(must_not_have_keywords_list)\n",
    "must_not_have_keywords"
   ]
  },
  {
   "cell_type": "code",
   "execution_count": 47,
   "metadata": {},
   "outputs": [
    {
     "data": {
      "text/plain": [
       "''"
      ]
     },
     "execution_count": 47,
     "metadata": {},
     "output_type": "execute_result"
    }
   ],
   "source": [
    "# After creating variables for keywords we join them to create the query.\n",
    "# This query is used to search the article's body and find matches.\n",
    "# This variable is used to make the api call too.\n",
    "\n",
    "query = must_have_keywords+must_not_have_keywords\n",
    "query"
   ]
  },
  {
   "cell_type": "code",
   "execution_count": 48,
   "metadata": {},
   "outputs": [
    {
     "name": "stdout",
     "output_type": "stream",
     "text": [
      "Type keywords to search for in the article title only\n"
     ]
    },
    {
     "data": {
      "application/vnd.jupyter.widget-view+json": {
       "model_id": "e4de59cbe81643c59576bd4a877b870a",
       "version_major": 2,
       "version_minor": 0
      },
      "text/plain": [
       "Text(value='', description='String:', layout=Layout(height='40px', width='auto'), placeholder='Type one keywor…"
      ]
     },
     "metadata": {},
     "output_type": "display_data"
    }
   ],
   "source": [
    "# Creating a widget to search the Title of the article only.\n",
    "# This is optional. Using this may narrow down the number of results.\n",
    "\n",
    "print('Type keywords to search for in the article title only')\n",
    "title_search_text = widgets.Text(layout=layout,\n",
    "    placeholder='Type one keyword and Press Enter, then type another',\n",
    "    description='String:',\n",
    ")\n",
    "display(title_search_text)\n",
    "\n",
    "title_query_list = []\n",
    "def callback(wdgt):\n",
    "    # replace by something useful\n",
    "    display(wdgt.value)\n",
    "    title_query_list.append('+'+wdgt.value)\n",
    "\n",
    "title_search_text.on_submit(callback)"
   ]
  },
  {
   "cell_type": "code",
   "execution_count": 49,
   "metadata": {},
   "outputs": [
    {
     "data": {
      "text/plain": [
       "''"
      ]
     },
     "execution_count": 49,
     "metadata": {},
     "output_type": "execute_result"
    }
   ],
   "source": [
    "# This variable is used to make the api call too.\n",
    "\n",
    "title_query = ''.join(title_query_list)\n",
    "title_query"
   ]
  },
  {
   "cell_type": "code",
   "execution_count": 61,
   "metadata": {},
   "outputs": [],
   "source": [
    "# Creating a function to make the api call and return the DataFrame containing the following columns and their content\n",
    "# source-id\n",
    "# source-name\n",
    "# author\n",
    "# title\n",
    "# description\n",
    "# content\n",
    "# published date\n",
    "# sentiment associated with the article\n",
    "# emotion associated with the article\n",
    "\n",
    "def call_api(base_url='http://newsapi.org/v2/everything?', from_date=previous_month, query='',title_query='',\n",
    "             source_string=source_string):\n",
    "\n",
    "# Error if page parameter ('page=1&'+ in the url) is set to more than 1 (i.e. when pageSize = 100)\n",
    "# {'status': 'error', \n",
    "# 'code': 'maximumResultsReached', \n",
    "# 'message': 'You have requested too many results. \n",
    "# Developer accounts are limited to a max of 100 results. \n",
    "# You are trying to request results 100 to 200. \n",
    "# Please upgrade to a paid plan if you need more results.'}\n",
    "\n",
    "# The newsapi.org developer edition only allows 100 results.\n",
    "# A single page can contain upto 100 results.\n",
    "\n",
    "    url = (base_url+\n",
    "           'q='+query+'&'+\n",
    "           'qInTitle='+title_query+'&'+\n",
    "           'from='+from_date+'&'+\n",
    "           'sources='+source_string+'&'+\n",
    "           'sortBy=publishedAt&'+\n",
    "           'page=1&'+\n",
    "           'pageSize=100&'+\n",
    "           'apiKey=paste-your-news-api-key-here') #single quotes needed.\n",
    "\n",
    "    response = requests.get(url)\n",
    "\n",
    "    \n",
    "    json_obj = response.json()\n",
    "    \n",
    "# Creating a list of dictionaries which can easily be converted to a pandas dataframe.\n",
    "\n",
    "    list_of_articles = []\n",
    "    if json_obj.get('articles', None) is None:\n",
    "        print(\"No articles obtained. Please try again.\")\n",
    "        print(\"Here is the response from newapi.org: \")\n",
    "        print(json_obj)\n",
    "    else:\n",
    "        for i in json_obj.get('articles', None):\n",
    "            # Creating a temporary dictionary to append to list of dictionaries.\n",
    "            \n",
    "            temp_article_dict = {}\n",
    "            temp_article_dict['source-id'] = i['source']['id']\n",
    "            temp_article_dict['source-name'] = i['source']['name']\n",
    "            temp_article_dict['author'] = i.get('author', 'Author Name(s) Missing')\n",
    "            temp_article_dict['title'] = i.get('title', 'Title Missing')\n",
    "            temp_article_dict['description'] = i.get('description', 'Description Missing')\n",
    "            if i.get('content') == None:\n",
    "                temp_article_dict['content'] = None\n",
    "                temp_article_dict['sentiment-of-content'] = None\n",
    "                temp_article_dict['emotion-of-content'] = None\n",
    "            else:\n",
    "                # Decoding the content of the article to prevent error from IBM Watson analyzer.\n",
    "                \n",
    "                decoded_content = unidecode(i.get('content'))  \n",
    "                \n",
    "                # Entire content will not be recorded in the output csv file.\n",
    "                # Also, some decoded content may not be readable.\n",
    "                \n",
    "                temp_article_dict['content'] = decoded_content\n",
    "                ibm_response = natural_language_understanding.analyze(language='en',\n",
    "                                text=decoded_content,\n",
    "                                features=Features(emotion=EmotionOptions(), sentiment=SentimentOptions())).get_result()\n",
    "                temp_article_dict['sentiment-of-content'] = ibm_response.get('sentiment').get('document').get('label')\n",
    "                \n",
    "                # Getting the emotion with highest score.\n",
    "                # Emotions returned are sadness, anger, fear, disgust, joy. \n",
    "                \n",
    "                emotion_of_content = max(ibm_response.get('emotion').get('document').get('emotion').items(), \n",
    "                                         key=operator.itemgetter(1))[0]\n",
    "                temp_article_dict['emotion-of-content'] = emotion_of_content\n",
    "                \n",
    "            temp_article_dict['published_date'] = i.get('publishedAt', 'Published Date Missing')\n",
    "            \n",
    "            # Appending dictionary to list of articles\n",
    "            \n",
    "            list_of_articles.append(temp_article_dict)\n",
    "    \n",
    "#   Converting list of dictionaries to dataframe.\n",
    "\n",
    "    articles = pd.DataFrame(list_of_articles)\n",
    "    return articles\n",
    "\n"
   ]
  },
  {
   "cell_type": "code",
   "execution_count": 62,
   "metadata": {},
   "outputs": [],
   "source": [
    "x = call_api()"
   ]
  },
  {
   "cell_type": "code",
   "execution_count": 64,
   "metadata": {},
   "outputs": [],
   "source": [
    "# Stores the results from the api(s) to the csv file named Sentiment-Analysis-on-News-Articles.csv\n",
    "\n",
    "x.to_csv('Sentiment-Analysis-on-News-Articles.csv')"
   ]
  }
 ],
 "metadata": {
  "kernelspec": {
   "display_name": "Python 3",
   "language": "python",
   "name": "python3"
  },
  "language_info": {
   "codemirror_mode": {
    "name": "ipython",
    "version": 3
   },
   "file_extension": ".py",
   "mimetype": "text/x-python",
   "name": "python",
   "nbconvert_exporter": "python",
   "pygments_lexer": "ipython3",
   "version": "3.7.7"
  }
 },
 "nbformat": 4,
 "nbformat_minor": 4
}
